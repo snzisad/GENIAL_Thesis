{
 "cells": [
  {
   "cell_type": "code",
   "execution_count": 1,
   "id": "c7830620",
   "metadata": {
    "scrolled": true
   },
   "outputs": [
    {
     "name": "stderr",
     "output_type": "stream",
     "text": [
      "2023-05-02 22:48:11.422725: I tensorflow/core/platform/cpu_feature_guard.cc:193] This TensorFlow binary is optimized with oneAPI Deep Neural Network Library (oneDNN) to use the following CPU instructions in performance-critical operations:  AVX2 FMA\n",
      "To enable them in other operations, rebuild TensorFlow with the appropriate compiler flags.\n",
      "2023-05-02 22:48:11.564541: W tensorflow/compiler/xla/stream_executor/platform/default/dso_loader.cc:64] Could not load dynamic library 'libcudart.so.11.0'; dlerror: libcudart.so.11.0: cannot open shared object file: No such file or directory; LD_LIBRARY_PATH: /home/snzisad/anaconda3/lib/python3.9/site-packages/cv2/../../lib64:\n",
      "2023-05-02 22:48:11.564561: I tensorflow/compiler/xla/stream_executor/cuda/cudart_stub.cc:29] Ignore above cudart dlerror if you do not have a GPU set up on your machine.\n",
      "2023-05-02 22:48:12.205184: W tensorflow/compiler/xla/stream_executor/platform/default/dso_loader.cc:64] Could not load dynamic library 'libnvinfer.so.7'; dlerror: libnvinfer.so.7: cannot open shared object file: No such file or directory; LD_LIBRARY_PATH: /home/snzisad/anaconda3/lib/python3.9/site-packages/cv2/../../lib64:\n",
      "2023-05-02 22:48:12.205248: W tensorflow/compiler/xla/stream_executor/platform/default/dso_loader.cc:64] Could not load dynamic library 'libnvinfer_plugin.so.7'; dlerror: libnvinfer_plugin.so.7: cannot open shared object file: No such file or directory; LD_LIBRARY_PATH: /home/snzisad/anaconda3/lib/python3.9/site-packages/cv2/../../lib64:\n",
      "2023-05-02 22:48:12.205253: W tensorflow/compiler/tf2tensorrt/utils/py_utils.cc:38] TF-TRT Warning: Cannot dlopen some TensorRT libraries. If you would like to use Nvidia GPU with TensorRT, please make sure the missing libraries mentioned above are installed properly.\n"
     ]
    }
   ],
   "source": [
    "import numpy as np\n",
    "import pandas as pd\n",
    "from datetime import datetime\n",
    "import shap\n",
    "import lime\n",
    "from scipy.stats import linregress\n",
    "import lime.lime_tabular\n",
    "import math\n",
    "from sklearn.metrics import mean_absolute_error, mean_squared_error\n",
    "from sklearn.model_selection import train_test_split \n",
    "from sklearn.preprocessing import MinMaxScaler \n",
    "from keras.models import Sequential \n",
    "from keras.layers import Dense, LSTM \n",
    "from keras.layers import Dropout \n",
    "import matplotlib.pyplot as plt \n",
    "from tensorflow.keras.optimizers import Adam\n",
    "from keras.layers import GRU \n",
    "from keras.layers import Flatten \n",
    "from keras.layers.convolutional import Conv1D, MaxPooling1D\n"
   ]
  },
  {
   "cell_type": "code",
   "execution_count": 2,
   "id": "76b72c7c",
   "metadata": {},
   "outputs": [
    {
     "name": "stdout",
     "output_type": "stream",
     "text": [
      "Requirement already satisfied: tensorflow in /home/snzisad/anaconda3/lib/python3.9/site-packages (2.11.0)\n",
      "Requirement already satisfied: tensorboard<2.12,>=2.11 in /home/snzisad/anaconda3/lib/python3.9/site-packages (from tensorflow) (2.11.2)\n",
      "Requirement already satisfied: tensorflow-io-gcs-filesystem>=0.23.1 in /home/snzisad/anaconda3/lib/python3.9/site-packages (from tensorflow) (0.24.0)\n",
      "Requirement already satisfied: protobuf<3.20,>=3.9.2 in /home/snzisad/anaconda3/lib/python3.9/site-packages (from tensorflow) (3.19.6)\n",
      "Requirement already satisfied: typing-extensions>=3.6.6 in /home/snzisad/anaconda3/lib/python3.9/site-packages (from tensorflow) (3.10.0.2)\n",
      "Requirement already satisfied: libclang>=13.0.0 in /home/snzisad/anaconda3/lib/python3.9/site-packages (from tensorflow) (13.0.0)\n",
      "Requirement already satisfied: flatbuffers>=2.0 in /home/snzisad/anaconda3/lib/python3.9/site-packages (from tensorflow) (2.0)\n",
      "Requirement already satisfied: keras<2.12,>=2.11.0 in /home/snzisad/anaconda3/lib/python3.9/site-packages (from tensorflow) (2.11.0)\n",
      "Requirement already satisfied: opt-einsum>=2.3.2 in /home/snzisad/anaconda3/lib/python3.9/site-packages (from tensorflow) (3.3.0)\n",
      "Requirement already satisfied: termcolor>=1.1.0 in /home/snzisad/anaconda3/lib/python3.9/site-packages (from tensorflow) (1.1.0)\n",
      "Requirement already satisfied: tensorflow-estimator<2.12,>=2.11.0 in /home/snzisad/anaconda3/lib/python3.9/site-packages (from tensorflow) (2.11.0)\n",
      "Requirement already satisfied: wrapt>=1.11.0 in /home/snzisad/anaconda3/lib/python3.9/site-packages (from tensorflow) (1.12.1)\n",
      "Requirement already satisfied: grpcio<2.0,>=1.24.3 in /home/snzisad/anaconda3/lib/python3.9/site-packages (from tensorflow) (1.50.0)\n",
      "Requirement already satisfied: absl-py>=1.0.0 in /home/snzisad/anaconda3/lib/python3.9/site-packages (from tensorflow) (1.0.0)\n",
      "Requirement already satisfied: setuptools in /home/snzisad/anaconda3/lib/python3.9/site-packages (from tensorflow) (58.0.4)\n",
      "Requirement already satisfied: astunparse>=1.6.0 in /home/snzisad/anaconda3/lib/python3.9/site-packages (from tensorflow) (1.6.3)\n",
      "Requirement already satisfied: google-pasta>=0.1.1 in /home/snzisad/anaconda3/lib/python3.9/site-packages (from tensorflow) (0.2.0)\n",
      "Requirement already satisfied: packaging in /home/snzisad/anaconda3/lib/python3.9/site-packages (from tensorflow) (21.3)\n",
      "Requirement already satisfied: numpy>=1.20 in /home/snzisad/anaconda3/lib/python3.9/site-packages (from tensorflow) (1.21.3)\n",
      "Requirement already satisfied: gast<=0.4.0,>=0.2.1 in /home/snzisad/anaconda3/lib/python3.9/site-packages (from tensorflow) (0.4.0)\n",
      "Requirement already satisfied: six>=1.12.0 in /home/snzisad/anaconda3/lib/python3.9/site-packages (from tensorflow) (1.16.0)\n",
      "Requirement already satisfied: h5py>=2.9.0 in /home/snzisad/anaconda3/lib/python3.9/site-packages (from tensorflow) (3.6.0)\n",
      "Requirement already satisfied: wheel<1.0,>=0.23.0 in /home/snzisad/anaconda3/lib/python3.9/site-packages (from astunparse>=1.6.0->tensorflow) (0.37.1)\n",
      "Requirement already satisfied: tensorboard-plugin-wit>=1.6.0 in /home/snzisad/anaconda3/lib/python3.9/site-packages (from tensorboard<2.12,>=2.11->tensorflow) (1.8.1)\n",
      "Requirement already satisfied: markdown>=2.6.8 in /home/snzisad/anaconda3/lib/python3.9/site-packages (from tensorboard<2.12,>=2.11->tensorflow) (3.3.6)\n",
      "Requirement already satisfied: werkzeug>=1.0.1 in /home/snzisad/anaconda3/lib/python3.9/site-packages (from tensorboard<2.12,>=2.11->tensorflow) (2.0.2)\n",
      "Requirement already satisfied: google-auth-oauthlib<0.5,>=0.4.1 in /home/snzisad/anaconda3/lib/python3.9/site-packages (from tensorboard<2.12,>=2.11->tensorflow) (0.4.6)\n",
      "Requirement already satisfied: google-auth<3,>=1.6.3 in /home/snzisad/anaconda3/lib/python3.9/site-packages (from tensorboard<2.12,>=2.11->tensorflow) (2.6.0)\n",
      "Requirement already satisfied: requests<3,>=2.21.0 in /home/snzisad/anaconda3/lib/python3.9/site-packages (from tensorboard<2.12,>=2.11->tensorflow) (2.26.0)\n",
      "Requirement already satisfied: tensorboard-data-server<0.7.0,>=0.6.0 in /home/snzisad/anaconda3/lib/python3.9/site-packages (from tensorboard<2.12,>=2.11->tensorflow) (0.6.1)\n",
      "Requirement already satisfied: rsa<5,>=3.1.4 in /home/snzisad/anaconda3/lib/python3.9/site-packages (from google-auth<3,>=1.6.3->tensorboard<2.12,>=2.11->tensorflow) (4.8)\n",
      "Requirement already satisfied: cachetools<6.0,>=2.0.0 in /home/snzisad/anaconda3/lib/python3.9/site-packages (from google-auth<3,>=1.6.3->tensorboard<2.12,>=2.11->tensorflow) (5.0.0)\n",
      "Requirement already satisfied: pyasn1-modules>=0.2.1 in /home/snzisad/anaconda3/lib/python3.9/site-packages (from google-auth<3,>=1.6.3->tensorboard<2.12,>=2.11->tensorflow) (0.2.8)\n",
      "Requirement already satisfied: requests-oauthlib>=0.7.0 in /home/snzisad/anaconda3/lib/python3.9/site-packages (from google-auth-oauthlib<0.5,>=0.4.1->tensorboard<2.12,>=2.11->tensorflow) (1.3.1)\n",
      "Requirement already satisfied: importlib-metadata>=4.4 in /home/snzisad/anaconda3/lib/python3.9/site-packages (from markdown>=2.6.8->tensorboard<2.12,>=2.11->tensorflow) (4.8.2)\n",
      "Requirement already satisfied: zipp>=0.5 in /home/snzisad/anaconda3/lib/python3.9/site-packages (from importlib-metadata>=4.4->markdown>=2.6.8->tensorboard<2.12,>=2.11->tensorflow) (3.7.0)\n",
      "Requirement already satisfied: pyasn1<0.5.0,>=0.4.6 in /home/snzisad/anaconda3/lib/python3.9/site-packages (from pyasn1-modules>=0.2.1->google-auth<3,>=1.6.3->tensorboard<2.12,>=2.11->tensorflow) (0.4.8)\n",
      "Requirement already satisfied: certifi>=2017.4.17 in /home/snzisad/anaconda3/lib/python3.9/site-packages (from requests<3,>=2.21.0->tensorboard<2.12,>=2.11->tensorflow) (2021.10.8)\n",
      "Requirement already satisfied: charset-normalizer~=2.0.0 in /home/snzisad/anaconda3/lib/python3.9/site-packages (from requests<3,>=2.21.0->tensorboard<2.12,>=2.11->tensorflow) (2.0.7)\n",
      "Requirement already satisfied: urllib3<1.27,>=1.21.1 in /home/snzisad/anaconda3/lib/python3.9/site-packages (from requests<3,>=2.21.0->tensorboard<2.12,>=2.11->tensorflow) (1.26.7)\n",
      "Requirement already satisfied: idna<4,>=2.5 in /home/snzisad/anaconda3/lib/python3.9/site-packages (from requests<3,>=2.21.0->tensorboard<2.12,>=2.11->tensorflow) (3.3)\n",
      "Requirement already satisfied: oauthlib>=3.0.0 in /home/snzisad/anaconda3/lib/python3.9/site-packages (from requests-oauthlib>=0.7.0->google-auth-oauthlib<0.5,>=0.4.1->tensorboard<2.12,>=2.11->tensorflow) (3.2.0)\n",
      "Requirement already satisfied: pyparsing!=3.0.5,>=2.0.2 in /home/snzisad/anaconda3/lib/python3.9/site-packages (from packaging->tensorflow) (3.0.4)\n",
      "Requirement already satisfied: keras in /home/snzisad/anaconda3/lib/python3.9/site-packages (2.11.0)\n",
      "Requirement already satisfied: shap in /home/snzisad/anaconda3/lib/python3.9/site-packages (0.41.0)\n",
      "Requirement already satisfied: scikit-learn in /home/snzisad/anaconda3/lib/python3.9/site-packages (from shap) (1.0.2)\n",
      "Requirement already satisfied: slicer==0.0.7 in /home/snzisad/anaconda3/lib/python3.9/site-packages (from shap) (0.0.7)\n",
      "Requirement already satisfied: tqdm>4.25.0 in /home/snzisad/anaconda3/lib/python3.9/site-packages (from shap) (4.62.3)\n",
      "Requirement already satisfied: packaging>20.9 in /home/snzisad/anaconda3/lib/python3.9/site-packages (from shap) (21.3)\n",
      "Requirement already satisfied: numpy in /home/snzisad/anaconda3/lib/python3.9/site-packages (from shap) (1.21.3)\n",
      "Requirement already satisfied: pandas in /home/snzisad/anaconda3/lib/python3.9/site-packages (from shap) (1.4.1)\n",
      "Requirement already satisfied: cloudpickle in /home/snzisad/anaconda3/lib/python3.9/site-packages (from shap) (1.6.0)\n",
      "Requirement already satisfied: scipy in /home/snzisad/anaconda3/lib/python3.9/site-packages (from shap) (1.7.3)\n",
      "Requirement already satisfied: numba in /home/snzisad/anaconda3/lib/python3.9/site-packages (from shap) (0.56.2)\n",
      "Requirement already satisfied: pyparsing!=3.0.5,>=2.0.2 in /home/snzisad/anaconda3/lib/python3.9/site-packages (from packaging>20.9->shap) (3.0.4)\n",
      "Requirement already satisfied: llvmlite<0.40,>=0.39.0dev0 in /home/snzisad/anaconda3/lib/python3.9/site-packages (from numba->shap) (0.39.1)\n",
      "Requirement already satisfied: setuptools<60 in /home/snzisad/anaconda3/lib/python3.9/site-packages (from numba->shap) (58.0.4)\n",
      "Requirement already satisfied: python-dateutil>=2.8.1 in /home/snzisad/anaconda3/lib/python3.9/site-packages (from pandas->shap) (2.8.2)\n",
      "Requirement already satisfied: pytz>=2020.1 in /home/snzisad/anaconda3/lib/python3.9/site-packages (from pandas->shap) (2021.3)\n",
      "Requirement already satisfied: six>=1.5 in /home/snzisad/anaconda3/lib/python3.9/site-packages (from python-dateutil>=2.8.1->pandas->shap) (1.16.0)\n",
      "Requirement already satisfied: joblib>=0.11 in /home/snzisad/anaconda3/lib/python3.9/site-packages (from scikit-learn->shap) (0.17.0)\n",
      "Requirement already satisfied: threadpoolctl>=2.0.0 in /home/snzisad/anaconda3/lib/python3.9/site-packages (from scikit-learn->shap) (2.1.0)\n"
     ]
    },
    {
     "name": "stdout",
     "output_type": "stream",
     "text": [
      "Requirement already satisfied: lime in /home/snzisad/anaconda3/lib/python3.9/site-packages (0.2.0.1)\n",
      "Requirement already satisfied: matplotlib in /home/snzisad/anaconda3/lib/python3.9/site-packages (from lime) (3.5.1)\n",
      "Requirement already satisfied: numpy in /home/snzisad/anaconda3/lib/python3.9/site-packages (from lime) (1.21.3)\n",
      "Requirement already satisfied: tqdm in /home/snzisad/anaconda3/lib/python3.9/site-packages (from lime) (4.62.3)\n",
      "Requirement already satisfied: scikit-learn>=0.18 in /home/snzisad/anaconda3/lib/python3.9/site-packages (from lime) (1.0.2)\n",
      "Requirement already satisfied: scikit-image>=0.12 in /home/snzisad/anaconda3/lib/python3.9/site-packages (from lime) (0.18.3)\n",
      "Requirement already satisfied: scipy in /home/snzisad/anaconda3/lib/python3.9/site-packages (from lime) (1.7.3)\n",
      "Requirement already satisfied: networkx>=2.0 in /home/snzisad/anaconda3/lib/python3.9/site-packages (from scikit-image>=0.12->lime) (2.5)\n",
      "Requirement already satisfied: pillow!=7.1.0,!=7.1.1,>=4.3.0 in /home/snzisad/anaconda3/lib/python3.9/site-packages (from scikit-image>=0.12->lime) (9.0.1)\n",
      "Requirement already satisfied: imageio>=2.3.0 in /home/snzisad/anaconda3/lib/python3.9/site-packages (from scikit-image>=0.12->lime) (2.9.0)\n",
      "Requirement already satisfied: tifffile>=2019.7.26 in /home/snzisad/anaconda3/lib/python3.9/site-packages (from scikit-image>=0.12->lime) (2020.10.1)\n",
      "Requirement already satisfied: PyWavelets>=1.1.1 in /home/snzisad/anaconda3/lib/python3.9/site-packages (from scikit-image>=0.12->lime) (1.1.1)\n",
      "Requirement already satisfied: pyparsing>=2.2.1 in /home/snzisad/anaconda3/lib/python3.9/site-packages (from matplotlib->lime) (3.0.4)\n",
      "Requirement already satisfied: cycler>=0.10 in /home/snzisad/anaconda3/lib/python3.9/site-packages (from matplotlib->lime) (0.11.0)\n",
      "Requirement already satisfied: packaging>=20.0 in /home/snzisad/anaconda3/lib/python3.9/site-packages (from matplotlib->lime) (21.3)\n",
      "Requirement already satisfied: kiwisolver>=1.0.1 in /home/snzisad/anaconda3/lib/python3.9/site-packages (from matplotlib->lime) (1.3.2)\n",
      "Requirement already satisfied: python-dateutil>=2.7 in /home/snzisad/anaconda3/lib/python3.9/site-packages (from matplotlib->lime) (2.8.2)\n",
      "Requirement already satisfied: fonttools>=4.22.0 in /home/snzisad/anaconda3/lib/python3.9/site-packages (from matplotlib->lime) (4.25.0)\n",
      "Requirement already satisfied: decorator>=4.3.0 in /home/snzisad/anaconda3/lib/python3.9/site-packages (from networkx>=2.0->scikit-image>=0.12->lime) (5.1.1)\n",
      "Requirement already satisfied: six>=1.5 in /home/snzisad/anaconda3/lib/python3.9/site-packages (from python-dateutil>=2.7->matplotlib->lime) (1.16.0)\n",
      "Requirement already satisfied: threadpoolctl>=2.0.0 in /home/snzisad/anaconda3/lib/python3.9/site-packages (from scikit-learn>=0.18->lime) (2.1.0)\n",
      "Requirement already satisfied: joblib>=0.11 in /home/snzisad/anaconda3/lib/python3.9/site-packages (from scikit-learn>=0.18->lime) (0.17.0)\n"
     ]
    }
   ],
   "source": [
    "!pip install tensorflow\n",
    "!pip install keras\n",
    "!pip install shap\n",
    "!pip install lime"
   ]
  },
  {
   "cell_type": "code",
   "execution_count": 3,
   "id": "d1a69b1e",
   "metadata": {},
   "outputs": [],
   "source": [
    "def get_prediction_from_model(dataset):\n",
    "    pred = selected_model.predict(dataset)\n",
    "\n",
    "    return np.array(pred)"
   ]
  },
  {
   "cell_type": "code",
   "execution_count": 4,
   "id": "1da1896b",
   "metadata": {},
   "outputs": [],
   "source": [
    "\n",
    "def get_lime_values(dataset):\n",
    "    lime_values = []\n",
    "    single_lime_value = []\n",
    "    lime_explainer = lime.lime_tabular.RecurrentTabularExplainer(training_set, feature_names=features, class_names=['AQI'], verbose=True, mode='regression')\n",
    "\n",
    "    for test_data in dataset:\n",
    "      test_data = np.reshape(test_data, (1, test_data.shape[0],test_data.shape[1]))\n",
    "      lime_exp = lime_explainer.explain_instance(test_data, get_prediction_from_model, num_features=len(features), labels=(1,))\n",
    "\n",
    "      coeffs = lime_exp.local_exp[0]\n",
    "      single_lime_value = [0] * len(features)\n",
    "      for c in coeffs:\n",
    "          single_lime_value[c[0]] += c[1]\n",
    "\n",
    "      lime_values.append(single_lime_value)\n",
    "\n",
    "    return np.array(lime_values)\n"
   ]
  },
  {
   "cell_type": "code",
   "execution_count": 5,
   "id": "ae21b2ab",
   "metadata": {},
   "outputs": [],
   "source": [
    "\n",
    "def XAIEvaluation(model, model_name):\n",
    "    global selected_model\n",
    "    # Create a shap explainer\n",
    "    selected_model = model\n",
    "    # custom_training_set = np.reshape(training_set, (training_set.shape[0], training_set.shape[1], 1))\n",
    "    \n",
    "    shap_explainer = shap.DeepExplainer(model, training_set)\n",
    "    \n",
    "    X_test = dataset_x[num_trained_item:]\n",
    "    y_test = dataset_y[num_trained_item:]\n",
    "    \n",
    "    \n",
    "    \n",
    "    num_items = 200\n",
    "    subset_A = X_test[:num_items]\n",
    "    subset_B = X_test[num_items:2*num_items]\n",
    "    print(X_test.shape)\n",
    "    # subset_A = np.reshape(subset_A, (subset_A.shape[0], subset_A.shape[1], 1))\n",
    "    # subset_B = np.reshape(subset_B, (subset_B.shape[0], subset_B.shape[1], 1))\n",
    "    \n",
    "    shap_values_A = shap_explainer.shap_values(subset_A)\n",
    "    shap_values_B = shap_explainer.shap_values(subset_B)\n",
    "    \n",
    "    shap_values = np.array([*shap_values_A, *shap_values_B])\n",
    "    \n",
    "    \n",
    "    \"\"\"### LIME Model\"\"\"\n",
    "    \n",
    "    \n",
    "    num_items = 200\n",
    "    subset_A = X_test[:num_items]\n",
    "    subset_B = X_test[num_items:2*num_items]\n",
    "    \n",
    "    lime_values_A = get_lime_values(subset_A)\n",
    "    lime_values_B = get_lime_values(subset_B)\n",
    "    \n",
    "    lime_values = np.array([*lime_values_A, *lime_values_B])\n",
    "    \n",
    "    # Calculate feature coverage\n",
    "    shap_coverages = []\n",
    "    \n",
    "    nonzero_counts = np.sum(shap_values != 0, axis=0)\n",
    "    nonzero_percents = nonzero_counts / shap_values.shape[0]\n",
    "    shap_coverages.extend(nonzero_percents)\n",
    "    \n",
    "    \n",
    "    \n",
    "    # Calculate feature coverage\n",
    "    lime_coverages = []\n",
    "    \n",
    "    nonzero_counts = np.sum(lime_values != 0, axis=0)\n",
    "    nonzero_percents = nonzero_counts / lime_values.shape[0]\n",
    "    lime_coverages.extend(nonzero_percents)\n",
    "    \n",
    "    \n",
    "    \n",
    "    # calculate the average absolute SHAP value for each feature\n",
    "    avg_shap = np.abs(shap_values).mean(axis=0)\n",
    "    \n",
    "    \n",
    "    \"\"\"### LIME Model\"\"\"\n",
    "    \n",
    "    # calculate the average absolute lime value for each feature\n",
    "    avg_lime = np.abs(lime_values).mean(axis=0)\n",
    "    \n",
    "    \n",
    "    shap_consistency = np.mean(np.abs(shap_values_A.flatten() - shap_values_B.flatten()))\n",
    "    \n",
    "    \n",
    "    slope, intercept, r_value, p_value, std_err = linregress(shap_values_A.flatten(), shap_values_B.flatten())\n",
    "    shap_icc = (r_value**2) * (np.sum(shap_values_A.flatten()**2) / len(shap_values_A.flatten()))\n",
    "    \n",
    "    \"\"\"### LIME Model\"\"\"\n",
    "    \n",
    "    lime_consistency = np.mean(np.abs(lime_values_A.flatten() - lime_values_B.flatten()))    \n",
    "    \n",
    "    slope, intercept, r_value, p_value, std_err = linregress(lime_values_A.flatten(), lime_values_B.flatten())\n",
    "    lime_icc = (r_value**2) * (np.sum(lime_values_A.flatten()**2) / len(lime_values_B.flatten()))\n",
    "    \n",
    "    \n",
    "    \n",
    "    # Errors\n",
    "    \n",
    "    y_predict = model.predict(X_test)\n",
    "    \n",
    "    mae = mean_absolute_error(y_predict, y_test)\n",
    "    mse = mean_squared_error(y_predict, y_test)\n",
    "    rmse = math.sqrt(mse)\n",
    "    \n",
    "    \n",
    "    row = {\"Model Name\": model_name, \"MAE\": mae, \"MSE\": mse, \"RMSE\": rmse, \n",
    "           \"SHAP Coverage\":shap_coverages, \"SHAP Avg Coverage\": np.mean(shap_coverages), \"SHAP Relevence\":avg_shap, \"SHAP Avg Relevence\":np.mean(avg_shap), \"SHAP CE\":shap_consistency, \"SHAP ICC\":shap_icc,\n",
    "            \"LIME Coverage\":lime_coverages, \"LIME Avg Coverage\": np.mean(lime_coverages), \"LIME Relevence\":avg_lime, \"LIME Avg Relevence\":np.mean(avg_lime), \"LIME CE\":lime_consistency, \"LIME ICC\":lime_icc}\n",
    "    output_file.append(row)\n",
    "    pd.DataFrame.from_dict(output_file).to_csv(output_file_path, index=False)\n"
   ]
  },
  {
   "cell_type": "code",
   "execution_count": 6,
   "id": "1d64661b",
   "metadata": {},
   "outputs": [],
   "source": [
    "\n",
    "def df_to_X_y(df, window_size):\n",
    "#   df_as_np = df.to_numpy()\n",
    "  X = []\n",
    "  y = []\n",
    "  for i in range(len(df)-window_size):\n",
    "    row = [r for r in df[i:i+window_size]]\n",
    "    X.append(row)\n",
    "    label = df[i+window_size][-1]\n",
    "    y.append(label)\n",
    "    # print(label)\n",
    "  return np.array(X), np.array(y)\n"
   ]
  },
  {
   "cell_type": "code",
   "execution_count": 7,
   "id": "f14e77cf",
   "metadata": {},
   "outputs": [],
   "source": [
    "root_path = '..'\n",
    "updated_dataset = root_path+\"/UpdatedAirQualityDataset.csv\"\n",
    "df = pd.read_csv(updated_dataset)"
   ]
  },
  {
   "cell_type": "code",
   "execution_count": 8,
   "id": "2f05b0e4",
   "metadata": {},
   "outputs": [],
   "source": [
    "file_name = \"ml_\"+str(datetime.now())+\".csv\"\n",
    "file_name = file_name.replace(' ', '-')\n",
    "file_name = file_name.replace(':', '-')\n",
    "output_file_path = root_path+\"/result/\"+file_name\n",
    "output_file = []"
   ]
  },
  {
   "cell_type": "code",
   "execution_count": 9,
   "id": "c616b9f6",
   "metadata": {},
   "outputs": [],
   "source": [
    "features =list(df.columns[:-1])\n",
    "num_trained_item = 10000\n",
    "\n",
    "# # Min max scaler\n",
    "scaler = MinMaxScaler()\n",
    "scaler = scaler.fit(df)\n",
    "df_for_training = scaler.transform(df)\n",
    "\n",
    "WINDOW_SIZE = 10\n",
    "X, y  = df_to_X_y(df_for_training, WINDOW_SIZE)\n",
    "training_set = X[:500]\n",
    "num_trained_item = 10000\n",
    "dataset_x = X[:num_trained_item]\n",
    "dataset_y = y[:num_trained_item]\n",
    "\n",
    "X_train, X_test, y_train, y_test = train_test_split(dataset_x, dataset_y, test_size=0.2, random_state=42)"
   ]
  },
  {
   "cell_type": "code",
   "execution_count": 10,
   "id": "d6ff0218",
   "metadata": {
    "scrolled": true
   },
   "outputs": [
    {
     "name": "stderr",
     "output_type": "stream",
     "text": [
      "2023-05-02 22:48:20.126246: W tensorflow/compiler/xla/stream_executor/platform/default/dso_loader.cc:64] Could not load dynamic library 'libcuda.so.1'; dlerror: libcuda.so.1: cannot open shared object file: No such file or directory; LD_LIBRARY_PATH: /home/snzisad/anaconda3/lib/python3.9/site-packages/cv2/../../lib64:\n",
      "2023-05-02 22:48:20.126270: W tensorflow/compiler/xla/stream_executor/cuda/cuda_driver.cc:265] failed call to cuInit: UNKNOWN ERROR (303)\n",
      "2023-05-02 22:48:20.126284: I tensorflow/compiler/xla/stream_executor/cuda/cuda_diagnostics.cc:156] kernel driver does not appear to be running on this host (ZisadsLinux): /proc/driver/nvidia/version does not exist\n",
      "2023-05-02 22:48:20.126457: I tensorflow/core/platform/cpu_feature_guard.cc:193] This TensorFlow binary is optimized with oneAPI Deep Neural Network Library (oneDNN) to use the following CPU instructions in performance-critical operations:  AVX2 FMA\n",
      "To enable them in other operations, rebuild TensorFlow with the appropriate compiler flags.\n"
     ]
    },
    {
     "name": "stdout",
     "output_type": "stream",
     "text": [
      "Epoch 1/5\n",
      "200/200 [==============================] - 4s 13ms/step - loss: 0.0164 - accuracy: 1.5625e-04 - val_loss: 0.0031 - val_accuracy: 0.0000e+00\n",
      "Epoch 2/5\n",
      "200/200 [==============================] - 2s 11ms/step - loss: 0.0031 - accuracy: 1.5625e-04 - val_loss: 0.0025 - val_accuracy: 0.0000e+00\n",
      "Epoch 3/5\n",
      "200/200 [==============================] - 2s 11ms/step - loss: 0.0029 - accuracy: 1.5625e-04 - val_loss: 0.0024 - val_accuracy: 0.0000e+00\n",
      "Epoch 4/5\n",
      "200/200 [==============================] - 2s 11ms/step - loss: 0.0027 - accuracy: 1.5625e-04 - val_loss: 0.0023 - val_accuracy: 0.0000e+00\n",
      "Epoch 5/5\n",
      "200/200 [==============================] - 2s 11ms/step - loss: 0.0026 - accuracy: 1.5625e-04 - val_loss: 0.0022 - val_accuracy: 0.0000e+00\n"
     ]
    }
   ],
   "source": [
    "\n",
    "\"\"\"# SHAP Explanation\"\"\"\n",
    "\n",
    "start = datetime.now()\n",
    "\n",
    "num_epochs = 5\n",
    "\n",
    "# LSTM\n",
    "model_lstm = Sequential()\n",
    "model_lstm.add(LSTM(units = 108, return_sequences = False, input_shape = (X_train.shape[1], X_train.shape[2]))) \n",
    "model_lstm.add(Dropout(0.2)) \n",
    "model_lstm.add(Dense(units = 1))\n",
    "\n",
    "#compile and fit the model on 40 epochs \n",
    "optimizer = Adam(learning_rate=0.0001) \n",
    "model_lstm.compile(optimizer = optimizer, loss = 'mean_squared_error', metrics=['accuracy']) \n",
    "lstm_history = model_lstm.fit(X_train, y_train, epochs = num_epochs, batch_size = 32, shuffle=True, validation_split=0.20)\n",
    "\n",
    "# # List all data in history \n",
    "# print(lstm_history.history.keys() )\n",
    "# print(\"\\n\") \n",
    "# # summarize history for accuracy \n",
    "# plt.plot(lstm_history.history['loss']) \n",
    "# plt.plot(lstm_history.history['val_loss']) \n",
    "# plt.title('LSTM Learning Curve') \n",
    "# plt.ylabel('Loss') \n",
    "# plt.xlabel('Epoch') \n",
    "# plt. legend(['train', 'test'], loc='upper left') \n",
    "# plt.show()\n"
   ]
  },
  {
   "cell_type": "code",
   "execution_count": 11,
   "id": "3320ffc0",
   "metadata": {
    "scrolled": false
   },
   "outputs": [
    {
     "name": "stdout",
     "output_type": "stream",
     "text": [
      "(8, 10, 4)\n"
     ]
    }
   ],
   "source": [
    "\n",
    "selected_model = model_lstm\n",
    "# custom_training_set = np.reshape(training_set, (training_set.shape[0], training_set.shape[1], 1))\n",
    "\n",
    "\n",
    "X_test = X[num_trained_item:]\n",
    "y_test = y[num_trained_item:]\n",
    "\n",
    "num_items = 8\n",
    "subset_A = X_test[:num_items]\n",
    "subset_B = X_test[num_items:2*num_items]\n",
    "print(subset_B.shape)\n",
    "\n",
    "\n",
    "# shap_explainer = shap.DeepExplainer(model_lstm, training_set)\n",
    "# # shap_explainer = shap.KernelExplainer(model_lstm.predict, training_set)\n",
    "\n",
    "# shap_values_A = shap_explainer.shap_values(subset_A)\n",
    "# shap_values_B = shap_explainer.shap_values(subset_B)\n",
    "\n",
    "# shap_values = np.array([*shap_values_A, *shap_values_B])"
   ]
  },
  {
   "cell_type": "code",
   "execution_count": 13,
   "id": "4de60add",
   "metadata": {
    "scrolled": true
   },
   "outputs": [
    {
     "ename": "ValueError",
     "evalue": "all the input arrays must have same number of dimensions, but the array at index 0 has 2 dimension(s) and the array at index 1 has 3 dimension(s)",
     "output_type": "error",
     "traceback": [
      "\u001b[0;31m---------------------------------------------------------------------------\u001b[0m",
      "\u001b[0;31mValueError\u001b[0m                                Traceback (most recent call last)",
      "\u001b[0;32m/tmp/ipykernel_486014/1224608345.py\u001b[0m in \u001b[0;36m<module>\u001b[0;34m\u001b[0m\n\u001b[1;32m      3\u001b[0m \u001b[0;34m\u001b[0m\u001b[0m\n\u001b[1;32m      4\u001b[0m \u001b[0mexplainer\u001b[0m \u001b[0;34m=\u001b[0m \u001b[0mshap\u001b[0m\u001b[0;34m.\u001b[0m\u001b[0mDeepExplainer\u001b[0m\u001b[0;34m(\u001b[0m\u001b[0mmodel_lstm\u001b[0m\u001b[0;34m,\u001b[0m \u001b[0mX_train\u001b[0m\u001b[0;34m)\u001b[0m\u001b[0;34m\u001b[0m\u001b[0;34m\u001b[0m\u001b[0m\n\u001b[0;32m----> 5\u001b[0;31m \u001b[0mshap_values\u001b[0m \u001b[0;34m=\u001b[0m \u001b[0mexplainer\u001b[0m\u001b[0;34m.\u001b[0m\u001b[0mshap_values\u001b[0m\u001b[0;34m(\u001b[0m\u001b[0mtest_data\u001b[0m\u001b[0;34m)\u001b[0m\u001b[0;34m\u001b[0m\u001b[0;34m\u001b[0m\u001b[0m\n\u001b[0m\u001b[1;32m      6\u001b[0m \u001b[0mshap\u001b[0m\u001b[0;34m.\u001b[0m\u001b[0minitjs\u001b[0m\u001b[0;34m(\u001b[0m\u001b[0;34m)\u001b[0m\u001b[0;34m\u001b[0m\u001b[0;34m\u001b[0m\u001b[0m\n\u001b[1;32m      7\u001b[0m \u001b[0mshap\u001b[0m\u001b[0;34m.\u001b[0m\u001b[0mforce_plot\u001b[0m\u001b[0;34m(\u001b[0m\u001b[0mexplainer\u001b[0m\u001b[0;34m.\u001b[0m\u001b[0mexpected_value\u001b[0m\u001b[0;34m[\u001b[0m\u001b[0;36m0\u001b[0m\u001b[0;34m]\u001b[0m\u001b[0;34m,\u001b[0m \u001b[0mshap_values\u001b[0m\u001b[0;34m[\u001b[0m\u001b[0;36m0\u001b[0m\u001b[0;34m]\u001b[0m\u001b[0;34m[\u001b[0m\u001b[0;36m0\u001b[0m\u001b[0;34m]\u001b[0m\u001b[0;34m[\u001b[0m\u001b[0;36m0\u001b[0m\u001b[0;34m]\u001b[0m\u001b[0;34m,\u001b[0m \u001b[0mfeature_names\u001b[0m\u001b[0;34m)\u001b[0m\u001b[0;34m\u001b[0m\u001b[0;34m\u001b[0m\u001b[0m\n",
      "\u001b[0;32m~/anaconda3/lib/python3.9/site-packages/shap/explainers/_deep/__init__.py\u001b[0m in \u001b[0;36mshap_values\u001b[0;34m(self, X, ranked_outputs, output_rank_order, check_additivity)\u001b[0m\n\u001b[1;32m    122\u001b[0m             \u001b[0mwere\u001b[0m \u001b[0mchosen\u001b[0m \u001b[0;32mas\u001b[0m \u001b[0;34m\"top\"\u001b[0m\u001b[0;34m.\u001b[0m\u001b[0;34m\u001b[0m\u001b[0;34m\u001b[0m\u001b[0m\n\u001b[1;32m    123\u001b[0m         \"\"\"\n\u001b[0;32m--> 124\u001b[0;31m         \u001b[0;32mreturn\u001b[0m \u001b[0mself\u001b[0m\u001b[0;34m.\u001b[0m\u001b[0mexplainer\u001b[0m\u001b[0;34m.\u001b[0m\u001b[0mshap_values\u001b[0m\u001b[0;34m(\u001b[0m\u001b[0mX\u001b[0m\u001b[0;34m,\u001b[0m \u001b[0mranked_outputs\u001b[0m\u001b[0;34m,\u001b[0m \u001b[0moutput_rank_order\u001b[0m\u001b[0;34m,\u001b[0m \u001b[0mcheck_additivity\u001b[0m\u001b[0;34m=\u001b[0m\u001b[0mcheck_additivity\u001b[0m\u001b[0;34m)\u001b[0m\u001b[0;34m\u001b[0m\u001b[0;34m\u001b[0m\u001b[0m\n\u001b[0m",
      "\u001b[0;32m~/anaconda3/lib/python3.9/site-packages/shap/explainers/_deep/deep_tf.py\u001b[0m in \u001b[0;36mshap_values\u001b[0;34m(self, X, ranked_outputs, output_rank_order, check_additivity)\u001b[0m\n\u001b[1;32m    306\u001b[0m \u001b[0;34m\u001b[0m\u001b[0m\n\u001b[1;32m    307\u001b[0m                 \u001b[0;31m# we use the first sample for the current sample and the rest for the references\u001b[0m\u001b[0;34m\u001b[0m\u001b[0;34m\u001b[0m\u001b[0m\n\u001b[0;32m--> 308\u001b[0;31m                 \u001b[0mjoint_input\u001b[0m \u001b[0;34m=\u001b[0m \u001b[0;34m[\u001b[0m\u001b[0mnp\u001b[0m\u001b[0;34m.\u001b[0m\u001b[0mconcatenate\u001b[0m\u001b[0;34m(\u001b[0m\u001b[0;34m[\u001b[0m\u001b[0mtiled_X\u001b[0m\u001b[0;34m[\u001b[0m\u001b[0ml\u001b[0m\u001b[0;34m]\u001b[0m\u001b[0;34m,\u001b[0m \u001b[0mbg_data\u001b[0m\u001b[0;34m[\u001b[0m\u001b[0ml\u001b[0m\u001b[0;34m]\u001b[0m\u001b[0;34m]\u001b[0m\u001b[0;34m,\u001b[0m \u001b[0;36m0\u001b[0m\u001b[0;34m)\u001b[0m \u001b[0;32mfor\u001b[0m \u001b[0ml\u001b[0m \u001b[0;32min\u001b[0m \u001b[0mrange\u001b[0m\u001b[0;34m(\u001b[0m\u001b[0mlen\u001b[0m\u001b[0;34m(\u001b[0m\u001b[0mX\u001b[0m\u001b[0;34m)\u001b[0m\u001b[0;34m)\u001b[0m\u001b[0;34m]\u001b[0m\u001b[0;34m\u001b[0m\u001b[0;34m\u001b[0m\u001b[0m\n\u001b[0m\u001b[1;32m    309\u001b[0m \u001b[0;34m\u001b[0m\u001b[0m\n\u001b[1;32m    310\u001b[0m                 \u001b[0;31m# run attribution computation graph\u001b[0m\u001b[0;34m\u001b[0m\u001b[0;34m\u001b[0m\u001b[0m\n",
      "\u001b[0;32m~/anaconda3/lib/python3.9/site-packages/shap/explainers/_deep/deep_tf.py\u001b[0m in \u001b[0;36m<listcomp>\u001b[0;34m(.0)\u001b[0m\n\u001b[1;32m    306\u001b[0m \u001b[0;34m\u001b[0m\u001b[0m\n\u001b[1;32m    307\u001b[0m                 \u001b[0;31m# we use the first sample for the current sample and the rest for the references\u001b[0m\u001b[0;34m\u001b[0m\u001b[0;34m\u001b[0m\u001b[0m\n\u001b[0;32m--> 308\u001b[0;31m                 \u001b[0mjoint_input\u001b[0m \u001b[0;34m=\u001b[0m \u001b[0;34m[\u001b[0m\u001b[0mnp\u001b[0m\u001b[0;34m.\u001b[0m\u001b[0mconcatenate\u001b[0m\u001b[0;34m(\u001b[0m\u001b[0;34m[\u001b[0m\u001b[0mtiled_X\u001b[0m\u001b[0;34m[\u001b[0m\u001b[0ml\u001b[0m\u001b[0;34m]\u001b[0m\u001b[0;34m,\u001b[0m \u001b[0mbg_data\u001b[0m\u001b[0;34m[\u001b[0m\u001b[0ml\u001b[0m\u001b[0;34m]\u001b[0m\u001b[0;34m]\u001b[0m\u001b[0;34m,\u001b[0m \u001b[0;36m0\u001b[0m\u001b[0;34m)\u001b[0m \u001b[0;32mfor\u001b[0m \u001b[0ml\u001b[0m \u001b[0;32min\u001b[0m \u001b[0mrange\u001b[0m\u001b[0;34m(\u001b[0m\u001b[0mlen\u001b[0m\u001b[0;34m(\u001b[0m\u001b[0mX\u001b[0m\u001b[0;34m)\u001b[0m\u001b[0;34m)\u001b[0m\u001b[0;34m]\u001b[0m\u001b[0;34m\u001b[0m\u001b[0;34m\u001b[0m\u001b[0m\n\u001b[0m\u001b[1;32m    309\u001b[0m \u001b[0;34m\u001b[0m\u001b[0m\n\u001b[1;32m    310\u001b[0m                 \u001b[0;31m# run attribution computation graph\u001b[0m\u001b[0;34m\u001b[0m\u001b[0;34m\u001b[0m\u001b[0m\n",
      "\u001b[0;32m<__array_function__ internals>\u001b[0m in \u001b[0;36mconcatenate\u001b[0;34m(*args, **kwargs)\u001b[0m\n",
      "\u001b[0;31mValueError\u001b[0m: all the input arrays must have same number of dimensions, but the array at index 0 has 2 dimension(s) and the array at index 1 has 3 dimension(s)"
     ]
    }
   ],
   "source": [
    "\n",
    "j = 5\n",
    "test_data = X_test[j:j+8]\n",
    "\n",
    "# explainer = shap.DeepExplainer(model_lstm, X_train)\n",
    "explainer = shap.DeepExplainer(model_lstm, X_train)\n",
    "shap_values = explainer.shap_values(test_data)\n",
    "shap.initjs()\n",
    "shap.force_plot(explainer.expected_value[0], shap_values[0][0][0], feature_names)\n"
   ]
  },
  {
   "cell_type": "code",
   "execution_count": 19,
   "id": "a77fbd72",
   "metadata": {},
   "outputs": [
    {
     "name": "stdout",
     "output_type": "stream",
     "text": [
      "1/1 [==============================] - 0s 28ms/step\n"
     ]
    },
    {
     "data": {
      "text/plain": [
       "0.3099918"
      ]
     },
     "execution_count": 19,
     "metadata": {},
     "output_type": "execute_result"
    }
   ],
   "source": [
    "j = 5\n",
    "test_data = X_test[j]\n",
    "test_data = np.reshape(test_data, (1, test_data.shape[0], test_data.shape[1]))\n",
    "model_lstm.predict(test_data)[0][0]"
   ]
  }
 ],
 "metadata": {
  "kernelspec": {
   "display_name": "Python 3 (ipykernel)",
   "language": "python",
   "name": "python3"
  },
  "language_info": {
   "codemirror_mode": {
    "name": "ipython",
    "version": 3
   },
   "file_extension": ".py",
   "mimetype": "text/x-python",
   "name": "python",
   "nbconvert_exporter": "python",
   "pygments_lexer": "ipython3",
   "version": "3.9.7"
  }
 },
 "nbformat": 4,
 "nbformat_minor": 5
}
